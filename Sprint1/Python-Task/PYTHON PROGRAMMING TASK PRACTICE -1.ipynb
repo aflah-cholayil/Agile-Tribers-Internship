{
 "cells": [
  {
   "cell_type": "code",
   "execution_count": 1,
   "id": "7f69368b-14d4-40de-8588-f51626c8a81e",
   "metadata": {},
   "outputs": [
    {
     "name": "stdout",
     "output_type": "stream",
     "text": [
      "Hello, World!\n"
     ]
    }
   ],
   "source": [
    "# 1. Hello World\n",
    "print(\"Hello, World!\")"
   ]
  },
  {
   "cell_type": "code",
   "execution_count": 3,
   "id": "72fe689d-99bd-4996-98cb-329012be50e7",
   "metadata": {},
   "outputs": [
    {
     "name": "stdout",
     "output_type": "stream",
     "text": [
      "Aflah\n"
     ]
    }
   ],
   "source": [
    "# 2. Print Your Name\n",
    "print(\"Aflah\")"
   ]
  },
  {
   "cell_type": "code",
   "execution_count": 5,
   "id": "c19d6b78-2871-434d-9b8a-c984415d3024",
   "metadata": {},
   "outputs": [
    {
     "name": "stdout",
     "output_type": "stream",
     "text": [
      "Aflah\n",
      "21\n"
     ]
    }
   ],
   "source": [
    "# 3. Print Name and Age on Separate Lines\n",
    "print(\"Aflah\")\n",
    "print(21)"
   ]
  },
  {
   "cell_type": "code",
   "execution_count": 9,
   "id": "6ef2a9a7-7d25-41e3-b784-bdbe89b4a841",
   "metadata": {},
   "outputs": [
    {
     "name": "stdout",
     "output_type": "stream",
     "text": [
      "Name: Aflah\n",
      "Age: 21\n",
      "Height: 5.9\n",
      "Is Student: True\n"
     ]
    }
   ],
   "source": [
    "# 4. Declare and Use Different Data Types\n",
    "name = \"Aflah\"\n",
    "age = 21\n",
    "height = 5.9\n",
    "is_student = True\n",
    "\n",
    "print(\"Name:\", name)\n",
    "print(\"Age:\", age)\n",
    "print(\"Height:\", height)\n",
    "print(\"Is Student:\", is_student)"
   ]
  },
  {
   "cell_type": "code",
   "execution_count": 11,
   "id": "b856f326-4356-44a0-804e-fc3bbacc0dbc",
   "metadata": {},
   "outputs": [
    {
     "name": "stdout",
     "output_type": "stream",
     "text": [
      "Hello, my name is Aflah and I am 21 years old.\n",
      "Hello, my name is Aflah and I am 21 years old.\n",
      "Hello, my name is Aflah and I am 21 years old.\n"
     ]
    }
   ],
   "source": [
    "# 5. String Concatenation\n",
    "print(\"Hello, my name is \" + name + \" and I am \" + str(age) + \" years old.\")\n",
    "print(\"Hello, my name is {} and I am {} years old.\".format(name, age))\n",
    "print(f\"Hello, my name is {name} and I am {age} years old.\")"
   ]
  },
  {
   "cell_type": "code",
   "execution_count": 13,
   "id": "2974bb1b-b762-4e61-85b4-1cc4d0f27849",
   "metadata": {},
   "outputs": [
    {
     "name": "stdout",
     "output_type": "stream",
     "text": [
      "Aflah\n",
      "21\n"
     ]
    }
   ],
   "source": [
    "# 6. Declare and Print Variables\n",
    "my_name = \"Aflah\"\n",
    "my_age = 21\n",
    "print(my_name)\n",
    "print(my_age)"
   ]
  },
  {
   "cell_type": "code",
   "execution_count": 15,
   "id": "47bfbf15-be2e-40dd-ab25-17ee12fbb8c5",
   "metadata": {},
   "outputs": [
    {
     "name": "stdout",
     "output_type": "stream",
     "text": [
      "Addition: 15\n",
      "Subtraction: 5\n",
      "Multiplication: 50\n",
      "Division: 2.0\n"
     ]
    }
   ],
   "source": [
    "# 7. Perform Mathematical Operations\n",
    "num1 = 10\n",
    "num2 = 5\n",
    "\n",
    "print(\"Addition:\", num1 + num2)\n",
    "print(\"Subtraction:\", num1 - num2)\n",
    "print(\"Multiplication:\", num1 * num2)\n",
    "print(\"Division:\", num1 / num2)"
   ]
  },
  {
   "cell_type": "code",
   "execution_count": 17,
   "id": "37471c3c-ec9c-4999-b38b-f806091c23b0",
   "metadata": {},
   "outputs": [
    {
     "name": "stdout",
     "output_type": "stream",
     "text": [
      "Apple\n",
      "Banana\n",
      "Cherry\n",
      "Mango\n"
     ]
    }
   ],
   "source": [
    "# 8. Declare and Print a List\n",
    "fruits = [\"Apple\", \"Banana\", \"Cherry\", \"Mango\"]\n",
    "for fruit in fruits:\n",
    "    print(fruit)"
   ]
  },
  {
   "cell_type": "code",
   "execution_count": 19,
   "id": "fee82d39-381d-405e-b1d9-0dbe7dba4bc4",
   "metadata": {},
   "outputs": [
    {
     "name": "stdout",
     "output_type": "stream",
     "text": [
      "*\n",
      "**\n",
      "***\n",
      "****\n"
     ]
    }
   ],
   "source": [
    "# 9. Print a Simple Pattern\n",
    "for i in range(1, 5):\n",
    "    print('*' * i)"
   ]
  },
  {
   "cell_type": "code",
   "execution_count": 25,
   "id": "169d888b-266d-4671-bff4-667d662ffd95",
   "metadata": {},
   "outputs": [],
   "source": [
    "# 10. Declare and Modify Variables\n",
    "name = \"Aflah\"\n",
    "age = 21\n",
    "is_student = True"
   ]
  },
  {
   "cell_type": "code",
   "execution_count": 23,
   "id": "f228e077-33ba-43c5-8439-2fae11602a54",
   "metadata": {},
   "outputs": [
    {
     "name": "stdout",
     "output_type": "stream",
     "text": [
      "Aflah\n",
      "21\n",
      "True\n",
      "Aflah Rahman\n",
      "22\n",
      "False\n"
     ]
    }
   ],
   "source": [
    "# 11. Print and Modify Variable Values\n",
    "print(name)\n",
    "print(age)\n",
    "print(is_student)\n",
    "\n",
    "name = \"Aflah Rahman\"\n",
    "age += 1\n",
    "is_student = not is_student\n",
    "\n",
    "print(name)\n",
    "print(age)\n",
    "print(is_student)"
   ]
  },
  {
   "cell_type": "code",
   "execution_count": 27,
   "id": "0a2d891f-6522-4476-91c0-1b4de4663aeb",
   "metadata": {},
   "outputs": [
    {
     "name": "stdout",
     "output_type": "stream",
     "text": [
      "Name: Aflah\n",
      "Age: 21\n",
      "Date of Birth: 19-09-2003\n",
      "Height: 5.9\n",
      "Weight: 79.5\n",
      "Degree: B.E CSE\n",
      "Gender: Male\n"
     ]
    }
   ],
   "source": [
    "# 12. Store and Print Personal Details\n",
    "name = \"Aflah\"\n",
    "age = 21\n",
    "dob = \"19-09-2003\"\n",
    "height = 5.9\n",
    "weight = 79.5\n",
    "degree = \"B.E CSE\"\n",
    "gender = \"Male\"\n",
    "\n",
    "print(\"Name:\", name)\n",
    "print(\"Age:\", age)\n",
    "print(\"Date of Birth:\", dob)\n",
    "print(\"Height:\", height)\n",
    "print(\"Weight:\", weight)\n",
    "print(\"Degree:\", degree)\n",
    "print(\"Gender:\", gender)"
   ]
  },
  {
   "cell_type": "code",
   "execution_count": null,
   "id": "de4ffb17-28f5-4d57-bb92-5997771dc4e0",
   "metadata": {},
   "outputs": [],
   "source": []
  }
 ],
 "metadata": {
  "kernelspec": {
   "display_name": "Python [conda env:venv]",
   "language": "python",
   "name": "conda-env-venv-py"
  },
  "language_info": {
   "codemirror_mode": {
    "name": "ipython",
    "version": 3
   },
   "file_extension": ".py",
   "mimetype": "text/x-python",
   "name": "python",
   "nbconvert_exporter": "python",
   "pygments_lexer": "ipython3",
   "version": "3.12.0"
  }
 },
 "nbformat": 4,
 "nbformat_minor": 5
}
