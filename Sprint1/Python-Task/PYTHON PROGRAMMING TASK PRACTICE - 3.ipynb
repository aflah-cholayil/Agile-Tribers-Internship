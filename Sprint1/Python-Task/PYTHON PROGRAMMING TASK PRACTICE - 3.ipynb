{
 "cells": [
  {
   "cell_type": "code",
   "execution_count": 2,
   "id": "535fc79f-7ae2-4681-8755-e83234f6dc82",
   "metadata": {},
   "outputs": [
    {
     "name": "stdout",
     "output_type": "stream",
     "text": [
      "200\n",
      "65\n"
     ]
    }
   ],
   "source": [
    "# 1. Product or Sum Condition\n",
    "def product_or_sum(a, b):\n",
    "    product = a * b\n",
    "    return product if product <= 500 else a + b\n",
    "\n",
    "print(product_or_sum(10, 20))\n",
    "print(product_or_sum(50, 15))"
   ]
  },
  {
   "cell_type": "code",
   "execution_count": 4,
   "id": "4fae7658-9f68-4c14-8036-b0a7c6179af4",
   "metadata": {},
   "outputs": [
    {
     "name": "stdout",
     "output_type": "stream",
     "text": [
      "25\n"
     ]
    }
   ],
   "source": [
    "# 2. Find the Greatest of Three Numbers\n",
    "def max_of_three(a, b, c):\n",
    "    return max(a, b, c)\n",
    "\n",
    "print(max_of_three(10, 25, 15))"
   ]
  },
  {
   "cell_type": "code",
   "execution_count": 6,
   "id": "2faa5d50-4825-4770-9eb5-f8af4b0348cb",
   "metadata": {},
   "outputs": [
    {
     "name": "stdout",
     "output_type": "stream",
     "text": [
      "[1, 2, 3, 4, 5]\n"
     ]
    }
   ],
   "source": [
    "# 3. Remove Duplicate Items from a List\n",
    "def remove_duplicates(lst):\n",
    "    return list(dict.fromkeys(lst))\n",
    "\n",
    "print(remove_duplicates([1,2,3,2,4,1,5]))"
   ]
  },
  {
   "cell_type": "code",
   "execution_count": 8,
   "id": "a598db10-5601-4d03-b55e-07009df653a3",
   "metadata": {},
   "outputs": [
    {
     "name": "stdout",
     "output_type": "stream",
     "text": [
      "[2, 2, '_', '_']\n"
     ]
    }
   ],
   "source": [
    "# 4. Remove and Replace Elements in a List\n",
    "def remove_element(nums, val):\n",
    "    nums[:] = [x for x in nums if x != val] + [\"_\"] * nums.count(val)\n",
    "\n",
    "nums_list = [3,2,2,3]\n",
    "remove_element(nums_list, 3)\n",
    "print(nums_list)"
   ]
  },
  {
   "cell_type": "code",
   "execution_count": 10,
   "id": "e7414657-2b2c-43c7-b6f3-1503baf63c45",
   "metadata": {},
   "outputs": [
    {
     "name": "stdout",
     "output_type": "stream",
     "text": [
      "True\n",
      "False\n"
     ]
    }
   ],
   "source": [
    "# 5. Check for Duplicates in a List\n",
    "def has_duplicates(nums):\n",
    "    return len(nums) != len(set(nums))\n",
    "\n",
    "print(has_duplicates([1,2,3,1]))\n",
    "print(has_duplicates([1,2,3,4]))"
   ]
  },
  {
   "cell_type": "code",
   "execution_count": 12,
   "id": "2197f218-ce83-455f-834f-11ef933c3dc8",
   "metadata": {},
   "outputs": [
    {
     "name": "stdout",
     "output_type": "stream",
     "text": [
      "2\n"
     ]
    }
   ],
   "source": [
    "# 6. Repeatedly Sum Digits Until a Single Digit is Obtained\n",
    "def sum_digits(num):\n",
    "    while num >= 10:\n",
    "        num = sum(int(digit) for digit in str(num))\n",
    "    return num\n",
    "\n",
    "print(sum_digits(38))"
   ]
  },
  {
   "cell_type": "code",
   "execution_count": 14,
   "id": "71e2440e-d2ed-4420-8ada-8f1d1f6adff7",
   "metadata": {},
   "outputs": [
    {
     "name": "stdout",
     "output_type": "stream",
     "text": [
      "[1, 0, 0, 2, 3, 0, 0, 4]\n"
     ]
    }
   ],
   "source": [
    "# 7. Duplicate Each Occurrence of Zero in a List\n",
    "def duplicate_zeros(arr):\n",
    "    i = 0\n",
    "    while i < len(arr):\n",
    "        if arr[i] == 0:\n",
    "            arr.insert(i, 0)\n",
    "            arr.pop()\n",
    "            i += 1\n",
    "        i += 1\n",
    "\n",
    "arr = [1,0,2,3,0,4,5,0]\n",
    "duplicate_zeros(arr)\n",
    "print(arr)"
   ]
  },
  {
   "cell_type": "code",
   "execution_count": 16,
   "id": "bf28fcbf-abfc-473a-966b-634975ca1e8d",
   "metadata": {},
   "outputs": [
    {
     "name": "stdout",
     "output_type": "stream",
     "text": [
      "[2]\n"
     ]
    }
   ],
   "source": [
    "# 8. Find the Intersection of Two Lists\n",
    "def find_intersection(nums1, nums2):\n",
    "    return list(set(nums1) & set(nums2))\n",
    "\n",
    "print(find_intersection([1,2,2,1], [2,2]))"
   ]
  }
 ],
 "metadata": {
  "kernelspec": {
   "display_name": "Python [conda env:venv]",
   "language": "python",
   "name": "conda-env-venv-py"
  },
  "language_info": {
   "codemirror_mode": {
    "name": "ipython",
    "version": 3
   },
   "file_extension": ".py",
   "mimetype": "text/x-python",
   "name": "python",
   "nbconvert_exporter": "python",
   "pygments_lexer": "ipython3",
   "version": "3.12.0"
  }
 },
 "nbformat": 4,
 "nbformat_minor": 5
}
