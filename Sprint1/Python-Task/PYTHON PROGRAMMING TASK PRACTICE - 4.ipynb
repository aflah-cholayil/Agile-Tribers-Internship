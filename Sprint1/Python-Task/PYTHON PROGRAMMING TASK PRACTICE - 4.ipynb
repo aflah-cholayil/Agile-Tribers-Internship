{
 "cells": [
  {
   "cell_type": "code",
   "execution_count": 1,
   "id": "00be0ddd-f486-451d-89e6-b7e5675e1900",
   "metadata": {},
   "outputs": [
    {
     "name": "stdout",
     "output_type": "stream",
     "text": [
      "Positive\n",
      "Negative\n"
     ]
    }
   ],
   "source": [
    "# 1. Identify if a Number is Positive or Negative\n",
    "def check_number(num):\n",
    "    if num > 0:\n",
    "        return \"Positive\"\n",
    "    elif num < 0:\n",
    "        return \"Negative\"\n",
    "    else:\n",
    "        return \"Zero\"\n",
    "\n",
    "print(check_number(5))\n",
    "print(check_number(-3))"
   ]
  },
  {
   "cell_type": "code",
   "execution_count": 13,
   "id": "1695c928-3b40-440d-9feb-2f7e5673ee11",
   "metadata": {},
   "outputs": [
    {
     "name": "stdout",
     "output_type": "stream",
     "text": [
      "Even\n",
      "Odd\n"
     ]
    }
   ],
   "source": [
    "# 2. Identify if a Number is Even or Odd\n",
    "def check_even_odd(num):\n",
    "    return \"Even\" if num % 2 == 0 else \"Odd\"\n",
    "\n",
    "print(check_even_odd(10))\n",
    "print(check_even_odd(7))"
   ]
  },
  {
   "cell_type": "code",
   "execution_count": 15,
   "id": "6a2deac0-6df6-4ff7-abcb-e8a8b3466ae0",
   "metadata": {},
   "outputs": [
    {
     "name": "stdout",
     "output_type": "stream",
     "text": [
      "25\n"
     ]
    }
   ],
   "source": [
    "# 3. Calculate the Power of a Number\n",
    "def power(base, exponent):\n",
    "    return base ** exponent\n",
    "\n",
    "print(power(5, 2))"
   ]
  },
  {
   "cell_type": "code",
   "execution_count": 17,
   "id": "698a6777-68bd-4f83-907b-1d00d28c4fed",
   "metadata": {},
   "outputs": [
    {
     "name": "stdout",
     "output_type": "stream",
     "text": [
      "20 is greater than 10\n",
      "Both numbers are equal\n"
     ]
    }
   ],
   "source": [
    "# 4. Compare Two Numbers\n",
    "def compare_numbers(a, b):\n",
    "    if a > b:\n",
    "        return f\"{a} is greater than {b}\"\n",
    "    elif a < b:\n",
    "        return f\"{b} is greater than {a}\"\n",
    "    else:\n",
    "        return \"Both numbers are equal\"\n",
    "\n",
    "print(compare_numbers(10, 20))\n",
    "print(compare_numbers(15, 15))"
   ]
  },
  {
   "cell_type": "code",
   "execution_count": 19,
   "id": "5999a9f5-1d8f-4897-a087-0ea2551c483f",
   "metadata": {},
   "outputs": [
    {
     "name": "stdout",
     "output_type": "stream",
     "text": [
      "2024 is a leap year\n",
      "1900 is not a leap year\n"
     ]
    }
   ],
   "source": [
    "# 5. Determine if a Year is a Leap Year\n",
    "def is_leap_year(year):\n",
    "    if (year % 4 == 0 and year % 100 != 0) or (year % 400 == 0):\n",
    "        return f\"{year} is a leap year\"\n",
    "    else:\n",
    "        return f\"{year} is not a leap year\"\n",
    "\n",
    "print(is_leap_year(2024))\n",
    "print(is_leap_year(1900))"
   ]
  },
  {
   "cell_type": "code",
   "execution_count": 21,
   "id": "544bda07-0c8e-4a07-b4b8-2708bf9de968",
   "metadata": {},
   "outputs": [
    {
     "name": "stdout",
     "output_type": "stream",
     "text": [
      "B\n",
      "F\n"
     ]
    }
   ],
   "source": [
    "# 6. Grade Calculator\n",
    "def grade_calculator(score):\n",
    "    if 90 <= score <= 100:\n",
    "        return \"A\"\n",
    "    elif 80 <= score <= 89:\n",
    "        return \"B\"\n",
    "    elif 70 <= score <= 79:\n",
    "        return \"C\"\n",
    "    elif 60 <= score <= 69:\n",
    "        return \"D\"\n",
    "    else:\n",
    "        return \"F\"\n",
    "\n",
    "print(grade_calculator(85))\n",
    "print(grade_calculator(50))"
   ]
  },
  {
   "cell_type": "code",
   "execution_count": 23,
   "id": "d092556a-bee7-4a1c-ba05-f976b17e872c",
   "metadata": {},
   "outputs": [
    {
     "name": "stdout",
     "output_type": "stream",
     "text": [
      "You can't drive.\n",
      "You can vote but not rent a car.\n"
     ]
    }
   ],
   "source": [
    "# 7. How Old Are You? (Age-Based Messages)\n",
    "def age_message(age):\n",
    "    if age < 16:\n",
    "        return \"You can't drive.\"\n",
    "    elif 16 <= age <= 17:\n",
    "        return \"You can drive but not vote.\"\n",
    "    elif 18 <= age <= 24:\n",
    "        return \"You can vote but not rent a car.\"\n",
    "    else:\n",
    "        return \"You can do pretty much anything.\"\n",
    "\n",
    "print(age_message(15))\n",
    "print(age_message(21))"
   ]
  },
  {
   "cell_type": "code",
   "execution_count": 25,
   "id": "87046fd5-b615-4f11-ad01-941365677d41",
   "metadata": {},
   "outputs": [
    {
     "name": "stdout",
     "output_type": "stream",
     "text": [
      "1\n",
      "2\n",
      "Fizz\n",
      "4\n",
      "Buzz\n",
      "Fizz\n",
      "7\n",
      "8\n",
      "Fizz\n",
      "Buzz\n",
      "11\n",
      "Fizz\n",
      "13\n",
      "14\n",
      "FizzBuzz\n",
      "16\n",
      "17\n",
      "Fizz\n",
      "19\n",
      "Buzz\n"
     ]
    }
   ],
   "source": [
    "# 8. FizzBuzz Challenge\n",
    "for i in range(1, 21): \n",
    "    if i % 3 == 0 and i % 5 == 0:\n",
    "        print(\"FizzBuzz\")\n",
    "    elif i % 3 == 0:\n",
    "        print(\"Fizz\")\n",
    "    elif i % 5 == 0:\n",
    "        print(\"Buzz\")\n",
    "    else:\n",
    "        print(i)"
   ]
  },
  {
   "cell_type": "code",
   "execution_count": 27,
   "id": "88621080-483e-4a70-b2e3-45afc6a93cc9",
   "metadata": {},
   "outputs": [
    {
     "name": "stdin",
     "output_type": "stream",
     "text": [
      "Enter a year:  2025\n"
     ]
    },
    {
     "name": "stdout",
     "output_type": "stream",
     "text": [
      "2025 is not a leap year\n"
     ]
    }
   ],
   "source": [
    "# 9. Leap Year Checker\n",
    "year = int(input(\"Enter a year: \"))\n",
    "if (year % 4 == 0 and year % 100 != 0) or (year % 400 == 0):\n",
    "    print(f\"{year} is a leap year\")\n",
    "else:\n",
    "    print(f\"{year} is not a leap year\")"
   ]
  },
  {
   "cell_type": "code",
   "execution_count": null,
   "id": "053f7a32-118b-410c-9a8a-2ed1091e06d7",
   "metadata": {},
   "outputs": [],
   "source": []
  }
 ],
 "metadata": {
  "kernelspec": {
   "display_name": "Python [conda env:venv]",
   "language": "python",
   "name": "conda-env-venv-py"
  },
  "language_info": {
   "codemirror_mode": {
    "name": "ipython",
    "version": 3
   },
   "file_extension": ".py",
   "mimetype": "text/x-python",
   "name": "python",
   "nbconvert_exporter": "python",
   "pygments_lexer": "ipython3",
   "version": "3.12.0"
  }
 },
 "nbformat": 4,
 "nbformat_minor": 5
}
