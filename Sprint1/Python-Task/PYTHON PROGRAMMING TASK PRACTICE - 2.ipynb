{
 "cells": [
  {
   "cell_type": "code",
   "execution_count": 31,
   "id": "463d3ca6-3ab0-4d89-9b12-13a44ae1d25e",
   "metadata": {},
   "outputs": [
    {
     "name": "stdout",
     "output_type": "stream",
     "text": [
      "Camel Case\n",
      "Snake Case\n"
     ]
    }
   ],
   "source": [
    "# Task 1: Declare Variables with Naming Conventions\n",
    "camelCaseVariable = \"Camel Case\"\n",
    "snake_case_variable = \"Snake Case\"\n",
    "print(camelCaseVariable)\n",
    "print(snake_case_variable)"
   ]
  },
  {
   "cell_type": "code",
   "execution_count": 33,
   "id": "0feab1ad-fb41-4f91-bd96-bdf2ab9378d6",
   "metadata": {},
   "outputs": [
    {
     "name": "stdout",
     "output_type": "stream",
     "text": [
      "Circumference: 43.98226\n"
     ]
    }
   ],
   "source": [
    "# Task 2: Declare a Constant and Use in Calculation\n",
    "PI = 3.14159\n",
    "radius = 7\n",
    "circumference = 2 * PI * radius\n",
    "print(\"Circumference:\", circumference)"
   ]
  },
  {
   "cell_type": "code",
   "execution_count": 35,
   "id": "bc7e4109-4c4e-48fd-be2c-1a2f4eaa46ea",
   "metadata": {},
   "outputs": [
    {
     "name": "stdout",
     "output_type": "stream",
     "text": [
      "First: Apple\n",
      "Last: Elderberry\n",
      "['Apple', 'Banana', 'Coconut', 'Date', 'Elderberry', 'Fig']\n"
     ]
    }
   ],
   "source": [
    "# Task 3: List Operations\n",
    "items = [\"Apple\", \"Banana\", \"Cherry\", \"Date\", \"Elderberry\"]\n",
    "print(\"First:\", items[0])\n",
    "print(\"Last:\", items[-1])\n",
    "items[2] = \"Coconut\"\n",
    "items.append(\"Fig\")\n",
    "print(items)"
   ]
  },
  {
   "cell_type": "code",
   "execution_count": 37,
   "id": "c99a4712-b186-46f2-8298-ad9f2fb008a9",
   "metadata": {},
   "outputs": [
    {
     "name": "stdout",
     "output_type": "stream",
     "text": [
      "Sum: 30\n"
     ]
    }
   ],
   "source": [
    "# Task 4: Sum of Two Numbers\n",
    "num1 = 10\n",
    "num2 = 20\n",
    "print(\"Sum:\", num1 + num2)"
   ]
  },
  {
   "cell_type": "code",
   "execution_count": 39,
   "id": "7099abb1-7671-4fdc-bf5d-4505603c2b2c",
   "metadata": {},
   "outputs": [
    {
     "name": "stdout",
     "output_type": "stream",
     "text": [
      "Area of Circle: 78.53975\n"
     ]
    }
   ],
   "source": [
    "# Task 5: Area of a Circle \n",
    "radius = 5\n",
    "area = 3.14159 * radius ** 2\n",
    "print(\"Area of Circle:\", area)"
   ]
  },
  {
   "cell_type": "code",
   "execution_count": 41,
   "id": "5082f966-66b1-4af4-baf7-ba69bc1e6dad",
   "metadata": {},
   "outputs": [
    {
     "name": "stdout",
     "output_type": "stream",
     "text": [
      "Area of Rectangle: 50\n"
     ]
    }
   ],
   "source": [
    "# Task 6: Area of a Rectangle\n",
    "length = 10\n",
    "width = 5\n",
    "area = length * width\n",
    "print(\"Area of Rectangle:\", area)"
   ]
  },
  {
   "cell_type": "code",
   "execution_count": 43,
   "id": "b74e15da-6745-4a40-aeee-16df144cf790",
   "metadata": {},
   "outputs": [
    {
     "name": "stdout",
     "output_type": "stream",
     "text": [
      "Area of Triangle: 24.0\n"
     ]
    }
   ],
   "source": [
    "# Task 7: Area of a Triangle\n",
    "base = 8\n",
    "height = 6\n",
    "area = (base * height) / 2\n",
    "print(\"Area of Triangle:\", area)"
   ]
  },
  {
   "cell_type": "code",
   "execution_count": 45,
   "id": "175360f9-e79f-4ef7-a6db-5c2b546a0dfe",
   "metadata": {},
   "outputs": [
    {
     "name": "stdout",
     "output_type": "stream",
     "text": [
      "Addition: 18\n",
      "Subtraction: 12\n",
      "Multiplication: 45\n",
      "Division: 5.0\n"
     ]
    }
   ],
   "source": [
    "# Task 8: Simple Calculator\n",
    "num1 = 15\n",
    "num2 = 3\n",
    "print(\"Addition:\", num1 + num2)\n",
    "print(\"Subtraction:\", num1 - num2)\n",
    "print(\"Multiplication:\", num1 * num2)\n",
    "print(\"Division:\", num1 / num2)"
   ]
  },
  {
   "cell_type": "code",
   "execution_count": 47,
   "id": "c49cc698-f1b4-4dca-a859-0b81b613e8ca",
   "metadata": {},
   "outputs": [
    {
     "name": "stdout",
     "output_type": "stream",
     "text": [
      "Initial: 10\n",
      "After +=: 15\n",
      "After -=: 13\n",
      "After *=: 39\n",
      "After /=: 9.75\n"
     ]
    }
   ],
   "source": [
    "# Task 9: Assignment Operators\n",
    "value = 10\n",
    "print(\"Initial:\", value)\n",
    "value += 5\n",
    "print(\"After +=:\", value)\n",
    "value -= 2\n",
    "print(\"After -=:\", value)\n",
    "value *= 3\n",
    "print(\"After *=:\", value)\n",
    "value /= 4\n",
    "print(\"After /=:\", value)"
   ]
  },
  {
   "cell_type": "code",
   "execution_count": 49,
   "id": "f11180d1-4fbb-471f-8e75-68eed989773c",
   "metadata": {},
   "outputs": [
    {
     "name": "stdout",
     "output_type": "stream",
     "text": [
      "After increment: 60\n",
      "After decrement: 55\n"
     ]
    }
   ],
   "source": [
    "# Task 10: Increment and Decrement Operators\n",
    "num = 50\n",
    "num += 10\n",
    "print(\"After increment:\", num)\n",
    "num -= 5\n",
    "print(\"After decrement:\", num)"
   ]
  },
  {
   "cell_type": "code",
   "execution_count": 51,
   "id": "4ef1b5d1-f957-427c-9830-75cd86d80e7c",
   "metadata": {},
   "outputs": [
    {
     "name": "stdout",
     "output_type": "stream",
     "text": [
      "False\n",
      "True\n",
      "False\n",
      "True\n",
      "False\n",
      "True\n"
     ]
    }
   ],
   "source": [
    "# Task 11: Comparison Operators\n",
    "a = 25\n",
    "b = 30\n",
    "print(a == b)\n",
    "print(a != b)\n",
    "print(a > b)\n",
    "print(a < b)\n",
    "print(a >= b)\n",
    "print(a <= b)"
   ]
  },
  {
   "cell_type": "code",
   "execution_count": 53,
   "id": "21779fbd-3db8-4632-acd4-afbe6be9468d",
   "metadata": {},
   "outputs": [
    {
     "name": "stdout",
     "output_type": "stream",
     "text": [
      "x and y: False\n",
      "x or y: True\n",
      "not x: False\n"
     ]
    }
   ],
   "source": [
    "# Task 12: Logical Operators\n",
    "x = True\n",
    "y = False\n",
    "print(\"x and y:\", x and y)\n",
    "print(\"x or y:\", x or y)\n",
    "print(\"not x:\", not x)"
   ]
  },
  {
   "cell_type": "code",
   "execution_count": 55,
   "id": "08b859c2-cd10-494f-805a-38b08dbd832f",
   "metadata": {},
   "outputs": [
    {
     "name": "stdout",
     "output_type": "stream",
     "text": [
      "10 5\n",
      "5 10\n"
     ]
    }
   ],
   "source": [
    "# Task 13: Swap Two Variables\n",
    "a = 5\n",
    "b = 10\n",
    "\n",
    "# Using third variable\n",
    "temp = a\n",
    "a = b\n",
    "b = temp\n",
    "print(a, b)\n",
    "\n",
    "# Without third variable\n",
    "a, b = b, a\n",
    "print(a, b)"
   ]
  },
  {
   "cell_type": "code",
   "execution_count": 57,
   "id": "1707f85d-f247-4567-a7bb-b07d46d0a8de",
   "metadata": {},
   "outputs": [
    {
     "name": "stdout",
     "output_type": "stream",
     "text": [
      "Average: 20.0\n"
     ]
    }
   ],
   "source": [
    "# Task 14: Average of Given Numbers\n",
    "num1 = 10\n",
    "num2 = 20\n",
    "num3 = 30\n",
    "average = (num1 + num2 + num3) / 3\n",
    "print(\"Average:\", average)"
   ]
  },
  {
   "cell_type": "code",
   "execution_count": 59,
   "id": "277d4ece-9972-4183-baff-1582b72f077b",
   "metadata": {},
   "outputs": [
    {
     "name": "stdout",
     "output_type": "stream",
     "text": [
      "Result: 160.0\n"
     ]
    }
   ],
   "source": [
    "# Task 15: Compound Arithmetic Operation\n",
    "a = 10\n",
    "b = 30\n",
    "c = 12\n",
    "d = 3\n",
    "result = (a + b) * c / d\n",
    "print(\"Result:\", result)"
   ]
  },
  {
   "cell_type": "code",
   "execution_count": 61,
   "id": "1a99b7f4-7aed-40e9-ae43-81da74683171",
   "metadata": {},
   "outputs": [
    {
     "name": "stdout",
     "output_type": "stream",
     "text": [
      "Total Marks: 450\n",
      "Average Marks: 90.0\n"
     ]
    }
   ],
   "source": [
    "# Task 16: Store 10th Grade Marks, Calculate Total and Average\n",
    "tamil = 85\n",
    "english = 90\n",
    "maths = 95\n",
    "science = 88\n",
    "social = 92\n",
    "total = tamil + english + maths + science + social\n",
    "average = total / 5\n",
    "print(\"Total Marks:\", total)\n",
    "print(\"Average Marks:\", average)"
   ]
  }
 ],
 "metadata": {
  "kernelspec": {
   "display_name": "Python [conda env:venv]",
   "language": "python",
   "name": "conda-env-venv-py"
  },
  "language_info": {
   "codemirror_mode": {
    "name": "ipython",
    "version": 3
   },
   "file_extension": ".py",
   "mimetype": "text/x-python",
   "name": "python",
   "nbconvert_exporter": "python",
   "pygments_lexer": "ipython3",
   "version": "3.12.0"
  }
 },
 "nbformat": 4,
 "nbformat_minor": 5
}
